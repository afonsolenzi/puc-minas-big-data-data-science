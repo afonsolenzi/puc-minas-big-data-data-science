{
 "cells": [
  {
   "cell_type": "code",
   "execution_count": 135,
   "metadata": {},
   "outputs": [],
   "source": [
    "import pymongo\n",
    "client = pymongo.MongoClient(\"localhost\",27017)\n",
    "db=client.test"
   ]
  },
  {
   "cell_type": "code",
   "execution_count": 136,
   "metadata": {},
   "outputs": [],
   "source": [
    "albuns = db.albuns.find()"
   ]
  },
  {
   "cell_type": "code",
   "execution_count": 137,
   "metadata": {},
   "outputs": [],
   "source": [
    "lista_albuns=[]\n",
    "\n",
    "for item in albuns:    \n",
    "    nome = item[\"nome\"]\n",
    "    lista_albuns.append(nome)"
   ]
  },
  {
   "cell_type": "code",
   "execution_count": 138,
   "metadata": {},
   "outputs": [
    {
     "data": {
      "text/plain": [
       "['Master of Puppets',\n",
       " '...And Justice for All',\n",
       " 'Among the Living',\n",
       " 'Nevermind',\n",
       " 'Reign in Blood',\n",
       " 'Seventh Son of a Seventh Son',\n",
       " 'Master of Puppets',\n",
       " 'Somewhere Far Beyond',\n",
       " 'Imaginations from the Other Side']"
      ]
     },
     "execution_count": 138,
     "metadata": {},
     "output_type": "execute_result"
    }
   ],
   "source": [
    "lista_albuns"
   ]
  },
  {
   "cell_type": "code",
   "execution_count": 139,
   "metadata": {},
   "outputs": [],
   "source": [
    "artistas = db.artistas.find()"
   ]
  },
  {
   "cell_type": "code",
   "execution_count": 140,
   "metadata": {},
   "outputs": [],
   "source": [
    "lista_artistas=[]\n",
    "\n",
    "for item in artistas:    \n",
    "    nome = item[\"nome\"]\n",
    "    lista_artistas.append(nome)"
   ]
  },
  {
   "cell_type": "code",
   "execution_count": 141,
   "metadata": {},
   "outputs": [
    {
     "data": {
      "text/plain": [
       "['Metallica',\n",
       " 'Megadeath',\n",
       " 'Slayer',\n",
       " 'Anthrax',\n",
       " 'Iron Maiden',\n",
       " 'Nirvana',\n",
       " 'Pink Floyd']"
      ]
     },
     "execution_count": 141,
     "metadata": {},
     "output_type": "execute_result"
    }
   ],
   "source": [
    "lista_artistas"
   ]
  }
 ],
 "metadata": {
  "kernelspec": {
   "display_name": "Python 3",
   "language": "python",
   "name": "python3"
  },
  "language_info": {
   "codemirror_mode": {
    "name": "ipython",
    "version": 3
   },
   "file_extension": ".py",
   "mimetype": "text/x-python",
   "name": "python",
   "nbconvert_exporter": "python",
   "pygments_lexer": "ipython3",
   "version": "3.7.3"
  }
 },
 "nbformat": 4,
 "nbformat_minor": 4
}
